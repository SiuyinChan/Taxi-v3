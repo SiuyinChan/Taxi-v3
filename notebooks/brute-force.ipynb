{
 "cells": [
  {
   "cell_type": "markdown",
   "source": [
    "## Install libraries"
   ],
   "metadata": {
    "collapsed": false
   }
  },
  {
   "cell_type": "code",
   "execution_count": null,
   "outputs": [],
   "source": [
    "!pip install gymnasium"
   ],
   "metadata": {
    "collapsed": false
   }
  },
  {
   "cell_type": "markdown",
   "source": [
    "## Import libraries"
   ],
   "metadata": {
    "collapsed": false
   }
  },
  {
   "cell_type": "code",
   "execution_count": 2,
   "metadata": {
    "collapsed": true,
    "ExecuteTime": {
     "end_time": "2024-04-11T13:15:44.043462Z",
     "start_time": "2024-04-11T13:15:37.979941Z"
    }
   },
   "outputs": [],
   "source": [
    "import gymnasium as gym\n",
    "from IPython.display import clear_output\n",
    "from time import sleep"
   ]
  },
  {
   "cell_type": "markdown",
   "source": [
    "## Create Taxi-v3 environment"
   ],
   "metadata": {
    "collapsed": false
   }
  },
  {
   "cell_type": "code",
   "execution_count": 3,
   "outputs": [],
   "source": [
    "env = gym.make(\"Taxi-v3\", render_mode=\"ansi\")"
   ],
   "metadata": {
    "collapsed": false,
    "ExecuteTime": {
     "end_time": "2024-04-11T13:15:46.731856Z",
     "start_time": "2024-04-11T13:15:46.702820Z"
    }
   }
  },
  {
   "cell_type": "markdown",
   "source": [
    "## Define Naive brute-force algorithm"
   ],
   "metadata": {
    "collapsed": false
   }
  },
  {
   "cell_type": "code",
   "execution_count": 32,
   "outputs": [
    {
     "name": "stdout",
     "output_type": "stream",
     "text": [
      "Timesteps taken: 1001\n",
      "Penalties incurred: 322\n",
      "Total reward earned: -3878\n"
     ]
    }
   ],
   "source": [
    "env.s = 328  # Set environment to illustration's state\n",
    "epochs = 0\n",
    "penalties, total_reward = 0, 0\n",
    "frames = []  # for animation\n",
    "done = False\n",
    "\n",
    "# Initial reset\n",
    "state = env.reset()\n",
    "\n",
    "while not done:\n",
    "    action = env.action_space.sample()\n",
    "    state, reward, done, truncated, info = env.step(action)\n",
    "\n",
    "    if reward == -10:\n",
    "        penalties += 1\n",
    "\n",
    "    # Put each rendered frame into dict for animation\n",
    "    frames.append({\n",
    "        'frame': env.render(),\n",
    "        'state': state,\n",
    "        'action': action,\n",
    "        'reward': reward\n",
    "    })\n",
    "\n",
    "    total_reward += reward\n",
    "    epochs += 1\n",
    "\n",
    "print(\"Timesteps taken: {}\".format(epochs))\n",
    "print(\"Penalties incurred: {}\".format(penalties))\n",
    "print(\"Total reward earned: {}\".format(total_reward))"
   ],
   "metadata": {
    "collapsed": false,
    "ExecuteTime": {
     "end_time": "2024-02-22T15:13:49.511706Z",
     "start_time": "2024-02-22T15:13:49.497131Z"
    }
   }
  },
  {
   "cell_type": "markdown",
   "source": [
    "## Print frames"
   ],
   "metadata": {
    "collapsed": false
   }
  },
  {
   "cell_type": "code",
   "execution_count": 34,
   "outputs": [
    {
     "name": "stdout",
     "output_type": "stream",
     "text": [
      "+---------+\n",
      "|\u001B[35m\u001B[34;1m\u001B[43mR\u001B[0m\u001B[0m\u001B[0m: | : :G|\n",
      "| : | : : |\n",
      "| : : : : |\n",
      "| | : | : |\n",
      "|Y| : |B: |\n",
      "+---------+\n",
      "  (Dropoff)\n",
      "\n",
      "Timestep: 1001\n",
      "State: 0\n",
      "Action: 5\n",
      "Reward: 20\n"
     ]
    }
   ],
   "source": [
    "def print_frames(frames):\n",
    "    for i, frame in enumerate(frames):\n",
    "        clear_output(wait=True)\n",
    "        print(frame['frame'])\n",
    "        print(f\"Timestep: {i + 1}\")\n",
    "        print(f\"State: {frame['state']}\")\n",
    "        print(f\"Action: {frame['action']}\")\n",
    "        print(f\"Reward: {frame['reward']}\")\n",
    "        sleep(.1)\n",
    "\n",
    "print_frames(frames)"
   ],
   "metadata": {
    "collapsed": false
   }
  },
  {
   "cell_type": "markdown",
   "source": [
    "## Evaluation"
   ],
   "metadata": {
    "collapsed": false
   }
  },
  {
   "cell_type": "code",
   "execution_count": 6,
   "outputs": [
    {
     "name": "stdout",
     "output_type": "stream",
     "text": [
      "Average number of penalties per episode: 922.14\n",
      "Average number of timesteps per episode: 2846.27\n",
      "Average rewards per move: -3.908459141262073\n"
     ]
    }
   ],
   "source": [
    "num_episodes = 100  # Number of episodes for evaluation\n",
    "total_penalties = 0\n",
    "total_timesteps = 0\n",
    "total_rewards = 0\n",
    "\n",
    "# Run episodes for evaluation\n",
    "for _ in range(num_episodes):\n",
    "    state = env.reset()\n",
    "    penalties = 0\n",
    "    episode_reward = 0\n",
    "\n",
    "    done = False\n",
    "    while not done:\n",
    "        action = env.action_space.sample()\n",
    "        state, reward, done, truncated, info = env.step(action)\n",
    "\n",
    "        episode_reward += reward\n",
    "        total_timesteps += 1\n",
    "\n",
    "        if reward == -10:\n",
    "            penalties += 1\n",
    "\n",
    "    total_penalties += penalties\n",
    "    total_rewards += episode_reward\n",
    "\n",
    "# Calculate metrics\n",
    "avg_penalties_per_episode = total_penalties / num_episodes\n",
    "avg_timesteps_per_episode = total_timesteps / num_episodes\n",
    "avg_rewards_per_move = total_rewards / total_timesteps\n",
    "\n",
    "print(\"Average number of penalties per episode:\", avg_penalties_per_episode)\n",
    "print(\"Average number of timesteps per episode:\", avg_timesteps_per_episode)\n",
    "print(\"Average rewards per move:\", avg_rewards_per_move)"
   ],
   "metadata": {
    "collapsed": false,
    "ExecuteTime": {
     "end_time": "2024-04-11T13:16:49.212888Z",
     "start_time": "2024-04-11T13:16:43.273989Z"
    }
   }
  }
 ],
 "metadata": {
  "kernelspec": {
   "display_name": "Python 3",
   "language": "python",
   "name": "python3"
  },
  "language_info": {
   "codemirror_mode": {
    "name": "ipython",
    "version": 2
   },
   "file_extension": ".py",
   "mimetype": "text/x-python",
   "name": "python",
   "nbconvert_exporter": "python",
   "pygments_lexer": "ipython2",
   "version": "2.7.6"
  }
 },
 "nbformat": 4,
 "nbformat_minor": 0
}
