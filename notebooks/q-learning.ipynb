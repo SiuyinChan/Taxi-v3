{
 "cells": [
  {
   "cell_type": "markdown",
   "source": [
    "## Install libraries"
   ],
   "metadata": {
    "collapsed": false
   }
  },
  {
   "cell_type": "code",
   "execution_count": null,
   "metadata": {
    "collapsed": true
   },
   "outputs": [],
   "source": [
    "!pip install gymnasium\n",
    "!pip install tqdm"
   ]
  },
  {
   "cell_type": "markdown",
   "source": [
    "## Import libraries"
   ],
   "metadata": {
    "collapsed": false
   }
  },
  {
   "cell_type": "code",
   "execution_count": 2,
   "outputs": [],
   "source": [
    "import gymnasium as gym\n",
    "import numpy as np\n",
    "from tqdm import tqdm"
   ],
   "metadata": {
    "collapsed": false,
    "ExecuteTime": {
     "end_time": "2024-04-12T20:00:30.556060Z",
     "start_time": "2024-04-12T20:00:30.216556Z"
    }
   }
  },
  {
   "cell_type": "markdown",
   "source": [
    "## Create Taxi-v3 environment"
   ],
   "metadata": {
    "collapsed": false
   }
  },
  {
   "cell_type": "code",
   "execution_count": 46,
   "outputs": [],
   "source": [
    "env = gym.make(\"Taxi-v3\", render_mode='ansi')"
   ],
   "metadata": {
    "collapsed": false,
    "ExecuteTime": {
     "end_time": "2024-04-12T20:37:17.834601Z",
     "start_time": "2024-04-12T20:37:17.830107Z"
    }
   }
  },
  {
   "cell_type": "markdown",
   "source": [
    "## Set environment to illustration's state"
   ],
   "metadata": {
    "collapsed": false
   }
  },
  {
   "cell_type": "code",
   "execution_count": 47,
   "outputs": [
    {
     "name": "stdout",
     "output_type": "stream",
     "text": [
      "State: 328\n"
     ]
    },
    {
     "data": {
      "text/plain": "{0: [(1.0, 428, -1, False)],\n 1: [(1.0, 228, -1, False)],\n 2: [(1.0, 348, -1, False)],\n 3: [(1.0, 328, -1, False)],\n 4: [(1.0, 328, -10, False)],\n 5: [(1.0, 328, -10, False)]}"
     },
     "execution_count": 47,
     "metadata": {},
     "output_type": "execute_result"
    }
   ],
   "source": [
    "state = env.unwrapped.encode(3, 1, 2, 0)\n",
    "# (taxi row, taxi column, passenger index, destination index)\n",
    "\n",
    "print(\"State:\", state)\n",
    "env.s = state\n",
    "\n",
    "# default reward values assigned to the illustration’s state\n",
    "# {action: [(probability, next_state, reward, done)]}\n",
    "env.unwrapped.P[328]"
   ],
   "metadata": {
    "collapsed": false,
    "ExecuteTime": {
     "end_time": "2024-04-12T20:37:19.623505Z",
     "start_time": "2024-04-12T20:37:19.612473Z"
    }
   }
  },
  {
   "cell_type": "markdown",
   "source": [
    "## Initialize Q-table with zeros"
   ],
   "metadata": {
    "collapsed": false
   }
  },
  {
   "cell_type": "code",
   "execution_count": 48,
   "outputs": [],
   "source": [
    "q_table = np.zeros([env.observation_space.n, env.action_space.n])"
   ],
   "metadata": {
    "collapsed": false,
    "ExecuteTime": {
     "end_time": "2024-04-12T20:37:22.957228Z",
     "start_time": "2024-04-12T20:37:22.944404Z"
    }
   }
  },
  {
   "cell_type": "markdown",
   "source": [
    "## Training Q-learning model"
   ],
   "metadata": {
    "collapsed": false
   }
  },
  {
   "cell_type": "code",
   "execution_count": 49,
   "outputs": [
    {
     "name": "stderr",
     "output_type": "stream",
     "text": [
      "100%|██████████| 10000/10000 [00:10<00:00, 950.78it/s]\n"
     ]
    },
    {
     "data": {
      "text/plain": "array([-3.30986883,  9.60071394, -3.07910832, -2.84574211, -5.93685967,\n       -4.39997893])"
     },
     "execution_count": 49,
     "metadata": {},
     "output_type": "execute_result"
    }
   ],
   "source": [
    "# Parameters\n",
    "alpha = 0.1  # Learning rate\n",
    "gamma = 0.99  # Discount factor\n",
    "epsilon = 0.1  # Exploration rate\n",
    "\n",
    "# Function to choose an action\n",
    "def choose_action(state):\n",
    "    if np.random.uniform(0, 1) < epsilon:\n",
    "        return env.action_space.sample() # Explore action space\n",
    "    else:\n",
    "        return np.argmax(q_table[state]) # Exploit learned values\n",
    "\n",
    "# Training the Q-learning algorithm\n",
    "num_episodes = 10000\n",
    "for episode in tqdm(range(num_episodes)):\n",
    "    state, info = env.reset()\n",
    "    done = False\n",
    "\n",
    "    while not done:\n",
    "        action = choose_action(state)\n",
    "        next_state, reward, done, truncated, info = env.step(action)\n",
    "\n",
    "        old_value = q_table[state, action]\n",
    "        next_max = np.max(q_table[next_state])\n",
    "\n",
    "        new_value = (1 - alpha) * old_value + alpha * (reward + gamma * next_max)\n",
    "        q_table[state, action] = new_value\n",
    "\n",
    "        state = next_state\n",
    "\n",
    "# print Q-values at the illustration’s state\n",
    "q_table[328]"
   ],
   "metadata": {
    "collapsed": false,
    "ExecuteTime": {
     "end_time": "2024-04-12T20:37:35.172999Z",
     "start_time": "2024-04-12T20:37:24.645569Z"
    }
   }
  },
  {
   "cell_type": "markdown",
   "source": [
    "## Evaluation"
   ],
   "metadata": {
    "collapsed": false
   }
  },
  {
   "cell_type": "code",
   "execution_count": 52,
   "outputs": [
    {
     "name": "stderr",
     "output_type": "stream",
     "text": [
      "100%|██████████| 100/100 [00:00<00:00, 2151.09it/s]"
     ]
    },
    {
     "name": "stdout",
     "output_type": "stream",
     "text": [
      "Average number of penalties per episode: 0.0\n",
      "Average number of timesteps per episode: 13.02\n",
      "Average rewards per move: 0.6129032258064516\n"
     ]
    },
    {
     "name": "stderr",
     "output_type": "stream",
     "text": [
      "\n"
     ]
    }
   ],
   "source": [
    "num_episodes = 100  # Number of episodes for evaluation\n",
    "total_penalties = 0\n",
    "total_timesteps = 0\n",
    "total_rewards = 0\n",
    "\n",
    "# Run episodes for evaluation\n",
    "for episode in tqdm(range(num_episodes)):\n",
    "    state, info = env.reset()\n",
    "    penalties = 0\n",
    "    episode_reward = 0\n",
    "\n",
    "    done = False\n",
    "    while not done:\n",
    "        action = np.argmax(q_table[state])\n",
    "        state, reward, done, truncated, info = env.step(action)\n",
    "\n",
    "        episode_reward += reward\n",
    "        total_timesteps += 1\n",
    "\n",
    "        if reward == -10:\n",
    "            penalties += 1\n",
    "\n",
    "    total_penalties += penalties\n",
    "    total_rewards += episode_reward\n",
    "\n",
    "# Calculate metrics\n",
    "avg_penalties_per_episode = total_penalties / num_episodes\n",
    "avg_timesteps_per_episode = total_timesteps / num_episodes\n",
    "avg_rewards_per_move = total_rewards / total_timesteps\n",
    "\n",
    "print(\"Average number of penalties per episode:\", avg_penalties_per_episode)\n",
    "print(\"Average number of timesteps per episode:\", avg_timesteps_per_episode)\n",
    "print(\"Average rewards per move:\", avg_rewards_per_move)"
   ],
   "metadata": {
    "collapsed": false,
    "ExecuteTime": {
     "end_time": "2024-04-12T20:38:20.875809Z",
     "start_time": "2024-04-12T20:38:20.819154Z"
    }
   }
  }
 ],
 "metadata": {
  "kernelspec": {
   "display_name": "Python 3",
   "language": "python",
   "name": "python3"
  },
  "language_info": {
   "codemirror_mode": {
    "name": "ipython",
    "version": 2
   },
   "file_extension": ".py",
   "mimetype": "text/x-python",
   "name": "python",
   "nbconvert_exporter": "python",
   "pygments_lexer": "ipython2",
   "version": "2.7.6"
  }
 },
 "nbformat": 4,
 "nbformat_minor": 0
}
